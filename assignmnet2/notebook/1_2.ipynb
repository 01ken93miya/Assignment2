{
 "cells": [
  {
   "cell_type": "code",
   "execution_count": 1,
   "metadata": {},
   "outputs": [],
   "source": [
    "import pickle"
   ]
  },
  {
   "cell_type": "code",
   "execution_count": 2,
   "metadata": {},
   "outputs": [],
   "source": [
    "words = pickle.load(open(f'../dataset/words.pkl', 'rb'))"
   ]
  },
  {
   "cell_type": "code",
   "execution_count": 3,
   "metadata": {},
   "outputs": [],
   "source": [
    "word2idx = pickle.load(open(f'../dataset/word2idx.pkl', 'rb'))"
   ]
  },
  {
   "cell_type": "code",
   "execution_count": 4,
   "metadata": {},
   "outputs": [],
   "source": [
    "vectors = pickle.load(open(f'../dataset/vectors.pkl', 'rb'))"
   ]
  },
  {
   "cell_type": "code",
   "execution_count": 5,
   "metadata": {},
   "outputs": [],
   "source": [
    "train_vocab_list = pickle.load(open(f'../dataset/train_vocab_list.pkl', 'rb'))\n",
    "train_target_list = pickle.load(open(f'../dataset/train_target_list.pkl', 'rb'))"
   ]
  },
  {
   "cell_type": "code",
   "execution_count": 6,
   "metadata": {},
   "outputs": [],
   "source": [
    "test_vocab_list = pickle.load(open(f'../dataset/test_vocab_list.pkl', 'rb'))\n",
    "test_target_list = pickle.load(open(f'../dataset/test_target_list.pkl', 'rb'))"
   ]
  },
  {
   "cell_type": "code",
   "execution_count": 7,
   "metadata": {},
   "outputs": [],
   "source": [
    "import torch\n",
    "import torch.nn as nn\n",
    "import torch.optim as optim\n",
    "import torch.nn.functional as F\n",
    "\n",
    "import numpy as np"
   ]
  },
  {
   "cell_type": "code",
   "execution_count": 8,
   "metadata": {},
   "outputs": [],
   "source": [
    "def get_weights_matrix(target_vocab):\n",
    "    target_vocab_list = target_vocab.split(' ')\n",
    "    matrix_len = len(target_vocab_list)\n",
    "    weights_matrix = np.zeros((1, 50))\n",
    "    words_found = 0\n",
    "    \n",
    "    for i, word in enumerate(target_vocab_list):        \n",
    "        try:\n",
    "            weights_matrix += vectors[word2idx[word]]\n",
    "            words_found += 1\n",
    "        except KeyError:\n",
    "            weights_matrix += np.random.normal(scale=0.6, size=(50,))\n",
    "\n",
    "    return torch.from_numpy(weights_matrix).unsqueeze(0)"
   ]
  },
  {
   "cell_type": "code",
   "execution_count": 17,
   "metadata": {},
   "outputs": [],
   "source": [
    "class RNN(nn.Module):\n",
    "    def __init__(self, input_dim, hidden_dim, output_dim):\n",
    "        super().__init__()\n",
    "        self.rnn = nn.RNN(input_dim, hidden_dim, batch_first=True)\n",
    "        self.fc = nn.Linear(hidden_dim, output_dim)\n",
    "\n",
    "    def forward(self, x):\n",
    "        output, hidden = self.rnn(x)\n",
    "        hidden = hidden.squeeze(0)\n",
    "        return self.fc(hidden)\n",
    "    \n",
    "    def predict(self, x):\n",
    "        prediction = F.softmax(self.forward(x), dim=1).data[0][0]\n",
    "        return 1 if prediction > 0.5 else 0"
   ]
  },
  {
   "cell_type": "code",
   "execution_count": 18,
   "metadata": {},
   "outputs": [],
   "source": [
    "n_epochs = 3\n",
    "train_len = 67349\n",
    "test_len = 1821\n",
    "train_predictions = np.zeros([n_epochs, train_len])\n",
    "train_losses = np.zeros(n_epochs)\n",
    "test_predictions = np.zeros([n_epochs, test_len])\n",
    "test_losses = np.zeros(n_epochs)\n",
    "\n",
    "model = RNN(50, 300, 2).double()\n",
    "criterion = nn.CrossEntropyLoss()\n",
    "optimizer = optim.Adam(model.parameters(), lr=0.0001)"
   ]
  },
  {
   "cell_type": "code",
   "execution_count": null,
   "metadata": {},
   "outputs": [
    {
     "name": "stdout",
     "output_type": "stream",
     "text": [
      "213891.17119042698\n",
      "8266.784246899695\n",
      "217163.3567096417\n",
      "12111.062017529292\n"
     ]
    }
   ],
   "source": [
    "for epoch in range(n_epochs):\n",
    "    for i in range(train_len):\n",
    "        vocab, target = train_vocab_list[i], train_target_list[i]\n",
    "        inputs = get_weights_matrix(vocab)\n",
    "        output = model(inputs)\n",
    "        _, predicted = torch.max(output.data, 1)\n",
    "        train_predictions[epoch][i] = int(predicted)\n",
    "        loss = criterion(output, torch.tensor([int(target)], dtype=int))\n",
    "        train_losses[epoch] += loss.item()\n",
    "        loss.backward()\n",
    "        optimizer.step()\n",
    "    for i in range(test_len):\n",
    "        vocab, target = test_vocab_list[i], test_target_list[i]\n",
    "        inputs = get_weights_matrix(vocab)\n",
    "        predicted = model.predict(inputs)\n",
    "        test_predictions[epoch][i] = int(predicted)\n",
    "        loss = criterion(output, torch.tensor([int(target)], dtype=int))\n",
    "        test_losses[epoch] += loss.item()\n",
    "    print(train_losses[epoch])\n",
    "    print(test_losses[epoch])"
   ]
  },
  {
   "cell_type": "code",
   "execution_count": 12,
   "metadata": {},
   "outputs": [],
   "source": [
    "pickle.dump(train_predictions, open(f'../dataset/part1_train_predictions.pkl', 'wb'))"
   ]
  },
  {
   "cell_type": "code",
   "execution_count": 13,
   "metadata": {},
   "outputs": [],
   "source": [
    "pickle.dump(train_losses, open(f'../dataset/part1_train_losses.pkl', 'wb'))"
   ]
  },
  {
   "cell_type": "code",
   "execution_count": 14,
   "metadata": {},
   "outputs": [],
   "source": [
    "pickle.dump(test_predictions, open(f'../dataset/part1_test_predictions.pkl', 'wb'))"
   ]
  },
  {
   "cell_type": "code",
   "execution_count": 15,
   "metadata": {},
   "outputs": [],
   "source": [
    "pickle.dump(test_losses, open(f'../dataset/part1_test_losses.pkl', 'wb'))"
   ]
  },
  {
   "cell_type": "code",
   "execution_count": 20,
   "metadata": {},
   "outputs": [],
   "source": [
    "torch.save(model, '../trained_models/part1_state.chkpt')"
   ]
  },
  {
   "cell_type": "code",
   "execution_count": null,
   "metadata": {},
   "outputs": [],
   "source": []
  }
 ],
 "metadata": {
  "kernelspec": {
   "display_name": "Python 3",
   "language": "python",
   "name": "python3"
  },
  "language_info": {
   "codemirror_mode": {
    "name": "ipython",
    "version": 3
   },
   "file_extension": ".py",
   "mimetype": "text/x-python",
   "name": "python",
   "nbconvert_exporter": "python",
   "pygments_lexer": "ipython3",
   "version": "3.7.6"
  },
  "varInspector": {
   "cols": {
    "lenName": 16,
    "lenType": 16,
    "lenVar": 40
   },
   "kernels_config": {
    "python": {
     "delete_cmd_postfix": "",
     "delete_cmd_prefix": "del ",
     "library": "var_list.py",
     "varRefreshCmd": "print(var_dic_list())"
    },
    "r": {
     "delete_cmd_postfix": ") ",
     "delete_cmd_prefix": "rm(",
     "library": "var_list.r",
     "varRefreshCmd": "cat(var_dic_list()) "
    }
   },
   "types_to_exclude": [
    "module",
    "function",
    "builtin_function_or_method",
    "instance",
    "_Feature"
   ],
   "window_display": false
  }
 },
 "nbformat": 4,
 "nbformat_minor": 4
}
